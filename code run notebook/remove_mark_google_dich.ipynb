{
  "nbformat": 4,
  "nbformat_minor": 0,
  "metadata": {
    "colab": {
      "provenance": []
    },
    "kernelspec": {
      "name": "python3",
      "display_name": "Python 3"
    },
    "language_info": {
      "name": "python"
    }
  },
  "cells": [
    {
      "cell_type": "code",
      "execution_count": null,
      "metadata": {
        "colab": {
          "base_uri": "https://localhost:8080/"
        },
        "id": "84nHK85YN6QQ",
        "outputId": "fc5e5ee2-3fba-471c-ab38-8462601649af"
      },
      "outputs": [
        {
          "output_type": "stream",
          "name": "stdout",
          "text": [
            "Collecting PyMuPDF\n",
            "  Downloading pymupdf-1.26.0-cp39-abi3-manylinux2014_x86_64.manylinux_2_17_x86_64.whl.metadata (3.4 kB)\n",
            "Downloading pymupdf-1.26.0-cp39-abi3-manylinux2014_x86_64.manylinux_2_17_x86_64.whl (24.1 MB)\n",
            "\u001b[2K   \u001b[90m━━━━━━━━━━━━━━━━━━━━━━━━━━━━━━━━━━━━━━━━\u001b[0m \u001b[32m24.1/24.1 MB\u001b[0m \u001b[31m25.0 MB/s\u001b[0m eta \u001b[36m0:00:00\u001b[0m\n",
            "\u001b[?25hInstalling collected packages: PyMuPDF\n",
            "Successfully installed PyMuPDF-1.26.0\n"
          ]
        }
      ],
      "source": [
        "!pip install PyMuPDF\n"
      ]
    },
    {
      "cell_type": "code",
      "source": [
        "# Bước 2: Mount Google Drive\n",
        "from google.colab import drive\n",
        "drive.mount('/content/drive')\n",
        "\n",
        "# Đường dẫn thư mục chứa các file PDF bạn muốn gộp trên Google Drive\n",
        "input_folder = \"/content/drive/MyDrive/Colab Notebooks/file_can_gop\""
      ],
      "metadata": {
        "id": "yuXZu1jKOOVW"
      },
      "execution_count": null,
      "outputs": []
    },
    {
      "cell_type": "code",
      "source": [
        "import fitz  # PyMuPDF\n",
        "from google.colab import files\n",
        "\n",
        "# Bước 1: Tải file PDF lên\n",
        "uploaded = files.upload()\n",
        "\n",
        "# Bước 2: Xử lý từng trang PDF và xóa dòng chữ \"Machine Translated by Google\"\n",
        "for filename in uploaded.keys():\n",
        "    doc = fitz.open(filename)\n",
        "\n",
        "    for page in doc:\n",
        "        text_instances = page.search_for(\"Machine Translated by Google\")\n",
        "        for inst in text_instances:\n",
        "            # Vẽ hình chữ nhật màu trắng đè lên đoạn văn bản\n",
        "            page.draw_rect(inst, color=(1, 1, 1), fill=(1, 1, 1))\n",
        "\n",
        "    # Bước 3: Lưu lại file mới\n",
        "    output_filename = \"cleaned_\" + filename\n",
        "    doc.save(output_filename)\n",
        "    doc.close()\n",
        "\n",
        "    # Tải file kết quả về máy\n",
        "    files.download(output_filename)\n"
      ],
      "metadata": {
        "id": "HStWW_tYOCOh"
      },
      "execution_count": null,
      "outputs": []
    },
    {
      "cell_type": "markdown",
      "source": [],
      "metadata": {
        "id": "baGEwsYFvJWx"
      }
    },
    {
      "cell_type": "code",
      "source": [
        "from google.colab import drive\n",
        "drive.mount('/content/drive')\n"
      ],
      "metadata": {
        "colab": {
          "base_uri": "https://localhost:8080/"
        },
        "id": "uHuejq1LvJxg",
        "outputId": "e83ea094-b98d-4319-fde4-cd3cceed2612"
      },
      "execution_count": 1,
      "outputs": [
        {
          "output_type": "stream",
          "name": "stdout",
          "text": [
            "Mounted at /content/drive\n"
          ]
        }
      ]
    },
    {
      "cell_type": "code",
      "source": [
        "!pip install PyMuPDF\n"
      ],
      "metadata": {
        "colab": {
          "base_uri": "https://localhost:8080/"
        },
        "id": "6rVgp8xyvMBH",
        "outputId": "1fdda0a5-6ca6-4853-d86d-033d05e61c7d"
      },
      "execution_count": 2,
      "outputs": [
        {
          "output_type": "stream",
          "name": "stdout",
          "text": [
            "Collecting PyMuPDF\n",
            "  Downloading pymupdf-1.26.0-cp39-abi3-manylinux2014_x86_64.manylinux_2_17_x86_64.whl.metadata (3.4 kB)\n",
            "Downloading pymupdf-1.26.0-cp39-abi3-manylinux2014_x86_64.manylinux_2_17_x86_64.whl (24.1 MB)\n",
            "\u001b[2K   \u001b[90m━━━━━━━━━━━━━━━━━━━━━━━━━━━━━━━━━━━━━━━━\u001b[0m \u001b[32m24.1/24.1 MB\u001b[0m \u001b[31m63.1 MB/s\u001b[0m eta \u001b[36m0:00:00\u001b[0m\n",
            "\u001b[?25hInstalling collected packages: PyMuPDF\n",
            "Successfully installed PyMuPDF-1.26.0\n"
          ]
        }
      ]
    },
    {
      "cell_type": "code",
      "source": [
        "import fitz  # PyMuPDF\n",
        "\n",
        "# Đường dẫn tới file gốc\n",
        "input_path = '/content/drive/MyDrive/Colab Notebooks/File_can_remove.pdf'\n",
        "# Đường dẫn lưu file đầu ra\n",
        "output_path = '/content/drive/MyDrive/Colab Notebooks/file_cleaned.pdf'\n",
        "\n",
        "# Mở file PDF\n",
        "doc = fitz.open(input_path)\n",
        "\n",
        "# Duyệt qua từng trang và tìm & che dòng chữ\n",
        "for page in doc:\n",
        "    # Tìm cụm từ cần xóa\n",
        "    text_instances = page.search_for(\"Machine Translated by Google\")\n",
        "    for inst in text_instances:\n",
        "        # Vẽ hình chữ nhật màu trắng đè lên đoạn văn bản\n",
        "        page.draw_rect(inst, color=(1, 1, 1), fill=(1, 1, 1))\n",
        "\n",
        "# Lưu lại file PDF mới\n",
        "doc.save(output_path)\n",
        "doc.close()\n",
        "\n",
        "print(\"✅ Đã xử lý xong. File lưu tại:\", output_path)\n"
      ],
      "metadata": {
        "colab": {
          "base_uri": "https://localhost:8080/"
        },
        "id": "rPESttc_vSKe",
        "outputId": "ce43a546-8351-4c23-ad44-a9482108eeeb"
      },
      "execution_count": 4,
      "outputs": [
        {
          "output_type": "stream",
          "name": "stdout",
          "text": [
            "✅ Đã xử lý xong. File lưu tại: /content/drive/MyDrive/Colab Notebooks/file_cleaned.pdf\n"
          ]
        }
      ]
    },
    {
      "cell_type": "markdown",
      "source": [],
      "metadata": {
        "id": "bweva6yC7edQ"
      }
    },
    {
      "cell_type": "markdown",
      "source": [],
      "metadata": {
        "id": "YjI0wpqb7ekM"
      }
    },
    {
      "cell_type": "code",
      "source": [],
      "metadata": {
        "colab": {
          "base_uri": "https://localhost:8080/",
          "height": 383
        },
        "id": "F5UfTHGn7exa",
        "outputId": "02bffaa9-3ec6-485f-afb9-484fa36555be"
      },
      "execution_count": 5,
      "outputs": [
        {
          "output_type": "error",
          "ename": "ModuleNotFoundError",
          "evalue": "No module named 'gradio'",
          "traceback": [
            "\u001b[0;31m---------------------------------------------------------------------------\u001b[0m",
            "\u001b[0;31mModuleNotFoundError\u001b[0m                       Traceback (most recent call last)",
            "\u001b[0;32m<ipython-input-5-7fa8002370a5>\u001b[0m in \u001b[0;36m<cell line: 0>\u001b[0;34m()\u001b[0m\n\u001b[1;32m      1\u001b[0m \u001b[0;32mimport\u001b[0m \u001b[0mfitz\u001b[0m  \u001b[0;31m# PyMuPDF\u001b[0m\u001b[0;34m\u001b[0m\u001b[0;34m\u001b[0m\u001b[0m\n\u001b[0;32m----> 2\u001b[0;31m \u001b[0;32mimport\u001b[0m \u001b[0mgradio\u001b[0m \u001b[0;32mas\u001b[0m \u001b[0mgr\u001b[0m\u001b[0;34m\u001b[0m\u001b[0;34m\u001b[0m\u001b[0m\n\u001b[0m\u001b[1;32m      3\u001b[0m \u001b[0;32mimport\u001b[0m \u001b[0mos\u001b[0m\u001b[0;34m\u001b[0m\u001b[0;34m\u001b[0m\u001b[0m\n\u001b[1;32m      4\u001b[0m \u001b[0;32mimport\u001b[0m \u001b[0mtempfile\u001b[0m\u001b[0;34m\u001b[0m\u001b[0;34m\u001b[0m\u001b[0m\n\u001b[1;32m      5\u001b[0m \u001b[0;34m\u001b[0m\u001b[0m\n",
            "\u001b[0;31mModuleNotFoundError\u001b[0m: No module named 'gradio'",
            "",
            "\u001b[0;31m---------------------------------------------------------------------------\u001b[0;32m\nNOTE: If your import is failing due to a missing package, you can\nmanually install dependencies using either !pip or !apt.\n\nTo view examples of installing some common dependencies, click the\n\"Open Examples\" button below.\n\u001b[0;31m---------------------------------------------------------------------------\u001b[0m\n"
          ],
          "errorDetails": {
            "actions": [
              {
                "action": "open_url",
                "actionText": "Open Examples",
                "url": "/notebooks/snippets/importing_libraries.ipynb"
              }
            ]
          }
        }
      ]
    }
  ]
}